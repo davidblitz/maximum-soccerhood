{
 "cells": [
  {
   "cell_type": "code",
   "execution_count": 1,
   "metadata": {
    "collapsed": false
   },
   "outputs": [
    {
     "data": {
      "text/plain": [
       "['VfL Wolfsburg',\n",
       " 'Borussia Dortmund',\n",
       " 'FC Augsburg',\n",
       " 'Hamburger SV',\n",
       " 'Bayer Leverkusen']"
      ]
     },
     "execution_count": 1,
     "metadata": {},
     "output_type": "execute_result"
    }
   ],
   "source": [
    "import csv\n",
    "\n",
    "bl_prep = []\n",
    "\n",
    "with open(\"bundesliga_15_16.csv\", 'r') as bl_csv:\n",
    "    reader = csv.reader(bl_csv, delimiter=',')\n",
    "    for row in reader:\n",
    "        bl_prep.append(row)\n",
    "\n",
    "bl_prep = bl_prep[1:]\n",
    "bl_prep[:5]\n",
    "\n",
    "teams = []\n",
    "with open(\"bundesliga_15_16_teams.csv\", 'r') as teams_csv:\n",
    "    reader = csv.reader(teams_csv, delimiter = ',')\n",
    "    for row in reader:\n",
    "        teams.extend(row)\n",
    "\n",
    "teams[:5]"
   ]
  },
  {
   "cell_type": "code",
   "execution_count": 68,
   "metadata": {
    "collapsed": false
   },
   "outputs": [],
   "source": [
    "home_goals = [int(row[2]) for row in bl_prep]\n",
    "away_goals = [int(row[3]) for row in bl_prep]\n",
    "team_vecs = [[0 for i in range(len(teams))] for j in range(len(teams))]\n",
    "\n",
    "for j in range(len(team_vecs)):\n",
    "    team_vecs[j][j] = 1\n",
    "    \n",
    "team_dict = { teams[i]: team_vecs[i] for i in range(len(teams))}\n",
    "\n",
    "home_teams = [team_dict[row[0]] for row in bl_prep]\n",
    "away_teams = [team_dict[row[1]] for row in bl_prep]"
   ]
  },
  {
   "cell_type": "code",
   "execution_count": 69,
   "metadata": {
    "collapsed": false
   },
   "outputs": [],
   "source": [
    "from tqdm import *\n",
    "\n",
    "def nice_out(ts, a, b, g):\n",
    "    print(\"Home advantage: \" + str(g))\n",
    "    for row in zip(ts, a, b):\n",
    "        print(row)"
   ]
  },
  {
   "cell_type": "code",
   "execution_count": 70,
   "metadata": {
    "collapsed": false
   },
   "outputs": [
    {
     "name": "stdout",
     "output_type": "stream",
     "text": [
      "18.0\n",
      "Initial model:\n",
      "Home advantage: 4.72071576695\n",
      "('VfL Wolfsburg', 0.48069010051622896, 0.2876559810761245)\n",
      "('Borussia Dortmund', 0.9922646194066993, 1.1379378426496514)\n",
      "('FC Augsburg', 0.339537332901509, 0.93677868067135428)\n",
      "('Hamburger SV', 0.79078996915595212, 0.44921070938320118)\n",
      "('Bayer Leverkusen', 0.61271164653919463, 0.62113681566313406)\n",
      "('1899 Hoffenheim', 0.39917112484492789, 1.0581281319960734)\n",
      "('FC Schalke 04', 0.47827402648888617, 0.27788881307972113)\n",
      "('Bayern M\\xc3\\xbcnchen', 0.60916774230341963, 1.0085704947587553)\n",
      "('1. FSV Mainz 05', 0.42470814501079612, 0.56883418846135636)\n",
      "('Hannover 96', 0.80518819570624633, 0.33938173897396801)\n",
      "('Eintracht Frankfurt', 0.86677547567696867, 1.8307512985932668)\n",
      "('Bor. M\\xc3\\xb6nchengladbach', 0.0032790910366652377, 1.3102282397260432)\n",
      "('VfB Stuttgart', 0.82521303797363288, 8.9509994002846405)\n",
      "('Hertha BSC', 0.28472030008462546, 0.3202161110180699)\n",
      "('FC Ingolstadt 04', 0.56683516156390923, 1.9045333251343115)\n",
      "('Werder Bremen', 0.78767928743845717, 1.7761337516255811)\n",
      "('SV Darmstadt 98', 0.507588091380059, 0.98299352323150746)\n",
      "('1. FC K\\xc3\\xb6ln', 8.2254066519718183, 4.2199705917296635)\n"
     ]
    }
   ],
   "source": [
    "import numpy\n",
    "import theano\n",
    "import theano.tensor as T\n",
    "\n",
    "rnd = numpy.random\n",
    "x = T.vector(\"x\")\n",
    "y = T.vector(\"y\")\n",
    "ht = T.matrix(\"ht\")\n",
    "at = T.matrix(\"at\")\n",
    "\n",
    "t = len(teams)\n",
    "#need to initialize with positive numbers\n",
    "a = rnd.rand(t)\n",
    "#normalize\n",
    "a[-1] = t-a[:-1].sum()\n",
    "#verify normalization\n",
    "la = numpy.log(a)\n",
    "print(numpy.exp(la).sum())\n",
    "lb = rnd.randn(t)\n",
    "lg = numpy.exp(rnd.randn())\n",
    "print(\"Initial model:\")\n",
    "attack = numpy.exp(la)\n",
    "defense = numpy.exp(lb)\n",
    "advantage = numpy.exp(lg)\n",
    "nice_out(teams, attack, defense, advantage)\n",
    "\n",
    "#initialize rho (naively)\n",
    "rho = 0"
   ]
  },
  {
   "cell_type": "code",
   "execution_count": 87,
   "metadata": {
    "collapsed": false
   },
   "outputs": [],
   "source": [
    "training_steps = 1000\n",
    "\n",
    "x = numpy.array(home_goals)\n",
    "y = numpy.array(away_goals)\n",
    "ht = numpy.matrix(home_teams)\n",
    "at = numpy.matrix(away_teams)\n",
    "htat = numpy.dot(ht.T, at)\n",
    "atht = htat.T\n",
    "htx = numpy.dot(ht.T, x)\n",
    "aty = numpy.dot(at.T, y)\n",
    "atx = numpy.dot(at.T, x)\n",
    "hty = numpy.dot(ht.T, y)\n",
    "const1 = htx + aty\n",
    "const2 = atx + hty\n",
    "x_sum = x.sum()"
   ]
  },
  {
   "cell_type": "code",
   "execution_count": 88,
   "metadata": {
    "collapsed": false
   },
   "outputs": [],
   "source": [
    "def log_llh(log_alpha, log_beta, log_gamma):\n",
    "    alpha = numpy.exp(log_alpha)\n",
    "    beta = numpy.exp(log_beta)\n",
    "    gamma = numpy.exp(log_gamma)\n",
    "    \n",
    "    ret = numpy.dot(htx, log_alpha.T).sum() + numpy.dot(atx, log_beta.T).sum() + x_sum*log_gamma + (\n",
    "     numpy.dot(aty, log_alpha.T).sum() + numpy.dot(hty, log_beta.T).sum() - gamma*numpy.dot(alpha, numpy.dot(htat, beta.T).T).sum() -\n",
    "     numpy.dot(alpha, numpy.dot(atht, beta.T).T).sum() )\n",
    "    #print(ret.shape)\n",
    "    return ret"
   ]
  },
  {
   "cell_type": "code",
   "execution_count": 89,
   "metadata": {
    "collapsed": false
   },
   "outputs": [],
   "source": [
    "def log_llh_der(log_alpha, log_beta, log_gamma):\n",
    "    alpha = numpy.exp(log_alpha)\n",
    "    beta = numpy.exp(log_beta)\n",
    "    gamma = numpy.exp(log_gamma)\n",
    "    \n",
    "    dfdla = (const1 - (numpy.eye(18)*alpha*numpy.dot(htat*gamma + atht, beta).T).T).T\n",
    "    dfdlb = (const2 - (numpy.eye(18)*beta*numpy.dot(htat + gamma*atht, alpha).T).T).T\n",
    "    dfdlg = numpy.array([x_sum - gamma*numpy.dot(alpha.T, numpy.dot(htat, beta).T).sum()])\n",
    "    ret = numpy.concatenate((dfdla, dfdlb, [dfdlg]))\n",
    "    ret = numpy.ravel(ret)\n",
    "    return ret"
   ]
  },
  {
   "cell_type": "code",
   "execution_count": 90,
   "metadata": {
    "collapsed": false
   },
   "outputs": [],
   "source": [
    "def log_llh_wrap(x):\n",
    "    log_a = x[:18]\n",
    "    log_b = x[18:36]\n",
    "    log_g = x[36]\n",
    "    \n",
    "    return -log_llh(log_a, log_b, log_g)"
   ]
  },
  {
   "cell_type": "code",
   "execution_count": 91,
   "metadata": {
    "collapsed": false
   },
   "outputs": [],
   "source": [
    "def log_llh_der_wrap(x):\n",
    "    log_a = x[:18]\n",
    "    log_b = x[18:36]\n",
    "    log_g = x[36]\n",
    "    \n",
    "    return -log_llh_der(log_a, log_b, log_g)"
   ]
  },
  {
   "cell_type": "code",
   "execution_count": 92,
   "metadata": {
    "collapsed": false
   },
   "outputs": [],
   "source": [
    "cons = ({'type': 'eq',\n",
    "         'fun': lambda x: sum(numpy.exp(x[:18]))-18,\n",
    "         'jac': lambda x: numpy.concatenate((numpy.exp(x[:18]), numpy.zeros(19)))})"
   ]
  },
  {
   "cell_type": "code",
   "execution_count": 93,
   "metadata": {
    "collapsed": false
   },
   "outputs": [],
   "source": [
    "count = 0\n",
    "def progress(x):\n",
    "    count += 1\n",
    "    if((10*count) % trainingsteps == 0):\n",
    "        print( count*10/trainingsteps + \"% completed.\")"
   ]
  },
  {
   "cell_type": "code",
   "execution_count": 94,
   "metadata": {
    "collapsed": false
   },
   "outputs": [
    {
     "name": "stdout",
     "output_type": "stream",
     "text": [
      "Optimization terminated successfully.    (Exit mode 0)\n",
      "            Current function value: 237.731305505\n",
      "            Iterations: 44\n",
      "            Function evaluations: 98\n",
      "            Gradient evaluations: 44\n"
     ]
    }
   ],
   "source": [
    "from scipy.optimize import minimize\n",
    "\n",
    "x0 = numpy.concatenate((la, lb, [lg]))\n",
    "#print(log_llh_wrap(x0))\n",
    "#print(numpy.ravel(numpy.eye(18)*alpha*numpy.dot(htat*gamma + atht, beta).T))\n",
    "#print(numpy.ravel(alpha) * (numpy.ravel(gamma*numpy.dot(htat, beta) + numpy.dot(atht, beta))))\n",
    "res = minimize(log_llh_wrap, x0, constraints=cons, method='SLSQP', jac=log_llh_der_wrap, \n",
    "               options={'maxiter': training_steps, 'disp':True}, callback=progress)"
   ]
  },
  {
   "cell_type": "code",
   "execution_count": 95,
   "metadata": {
    "collapsed": false
   },
   "outputs": [
    {
     "name": "stdout",
     "output_type": "stream",
     "text": [
      "[ 1.07308199  1.96534672  0.8779234   0.7908241   1.03335801  0.71014688\n",
      "  0.96386838  1.85827331  0.95317461  0.76800715  0.89553253  1.45022693\n",
      "  0.9386723   1.06999381  0.45746278  0.73602001  0.71523708  0.74285001\n",
      "  1.13384741  1.30325953  1.36472794  1.2126714   1.0590939   1.32536978\n",
      "  1.2231424   0.45516727  1.23846652  1.53581223  1.4875015   1.65167108\n",
      "  1.95913626  0.95544926  0.92807589  1.69674625  1.36869587  1.11143103\n",
      "  1.19941378]\n",
      "18.000000001\n"
     ]
    }
   ],
   "source": [
    "print(numpy.exp(res.x))\n",
    "print(numpy.exp(res.x[:18]).sum())"
   ]
  },
  {
   "cell_type": "code",
   "execution_count": 96,
   "metadata": {
    "collapsed": false
   },
   "outputs": [],
   "source": [
    "la = res.x[:t]\n",
    "lb = res.x[t:2*t]\n",
    "lg = res.x[2*t]"
   ]
  },
  {
   "cell_type": "code",
   "execution_count": 97,
   "metadata": {
    "collapsed": false
   },
   "outputs": [
    {
     "name": "stdout",
     "output_type": "stream",
     "text": [
      "Final model:\n",
      "Home advantage: 1.1994137761\n",
      "('VfL Wolfsburg', 1.0730819908523481, 1.1338474069200499)\n",
      "('Borussia Dortmund', 1.965346717445329, 1.3032595266010016)\n",
      "('FC Augsburg', 0.87792340342390129, 1.3647279373135899)\n",
      "('Hamburger SV', 0.79082409939010967, 1.2126713959497426)\n",
      "('Bayer Leverkusen', 1.0333580135914284, 1.0590938972164452)\n",
      "('1899 Hoffenheim', 0.71014688243102786, 1.3253697844705103)\n",
      "('FC Schalke 04', 0.9638683839859461, 1.2231423971677988)\n",
      "('Bayern M\\xc3\\xbcnchen', 1.8582733148348851, 0.45516727302323928)\n",
      "('1. FSV Mainz 05', 0.95317460904257656, 1.2384665236983747)\n",
      "('Hannover 96', 0.7680071495313836, 1.5358122325344505)\n",
      "('Eintracht Frankfurt', 0.89553252962085528, 1.4875014977785943)\n",
      "('Bor. M\\xc3\\xb6nchengladbach', 1.4502269286910567, 1.6516710767413938)\n",
      "('VfB Stuttgart', 0.93867229973978239, 1.9591362568966033)\n",
      "('Hertha BSC', 1.0699938066951578, 0.95544926045268763)\n",
      "('FC Ingolstadt 04', 0.4574627771641025, 0.92807589238479071)\n",
      "('Werder Bremen', 0.73602001186636978, 1.6967462483229994)\n",
      "('SV Darmstadt 98', 0.71523707753182053, 1.3686958727590826)\n",
      "('1. FC K\\xc3\\xb6ln', 0.74285000520942401, 1.1114310327418488)\n"
     ]
    }
   ],
   "source": [
    "print(\"Final model:\")\n",
    "attack = numpy.exp(la)\n",
    "defense = numpy.exp(lb)\n",
    "advantage = numpy.exp(lg)\n",
    "#nice_out(teams, attack, defense, gamma.get_value())\n",
    "nice_out(teams, attack, defense, advantage)"
   ]
  },
  {
   "cell_type": "code",
   "execution_count": 98,
   "metadata": {
    "collapsed": false
   },
   "outputs": [
    {
     "name": "stdout",
     "output_type": "stream",
     "text": [
      "Writing model done.\n"
     ]
    }
   ],
   "source": [
    "with open(\"dc_model_params.csv\", 'w') as model:\n",
    "    model_writer = csv.writer(model, delimiter = ',')\n",
    "    model_writer.writerow(attack)\n",
    "    model_writer.writerow(defense)\n",
    "    model_writer.writerow([advantage])\n",
    "    \n",
    "print(\"Writing model done.\")"
   ]
  },
  {
   "cell_type": "code",
   "execution_count": 142,
   "metadata": {
    "collapsed": false
   },
   "outputs": [],
   "source": []
  },
  {
   "cell_type": "code",
   "execution_count": null,
   "metadata": {
    "collapsed": false
   },
   "outputs": [],
   "source": []
  }
 ],
 "metadata": {
  "kernelspec": {
   "display_name": "Python 2",
   "language": "python",
   "name": "python2"
  },
  "language_info": {
   "codemirror_mode": {
    "name": "ipython",
    "version": 2
   },
   "file_extension": ".py",
   "mimetype": "text/x-python",
   "name": "python",
   "nbconvert_exporter": "python",
   "pygments_lexer": "ipython2",
   "version": "2.7.9"
  }
 },
 "nbformat": 4,
 "nbformat_minor": 0
}
