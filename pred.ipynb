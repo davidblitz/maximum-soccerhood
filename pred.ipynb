{
 "metadata": {
  "name": "",
  "signature": "sha256:1aa37f8a2ce3ff5b593b2841da0daf95d9fee244d978556ca4f35a2ba9464856"
 },
 "nbformat": 3,
 "nbformat_minor": 0,
 "worksheets": [
  {
   "cells": [
    {
     "cell_type": "code",
     "collapsed": false,
     "input": [
      "import csv\n",
      "import numpy\n",
      "\n",
      "attack = []\n",
      "defense = []\n",
      "advantage = 0.0\n",
      "with open(\"dc_model_params.csv\", 'r') as model:\n",
      "    csvreader = csv.reader(model, delimiter=',')\n",
      "    rows = []\n",
      "    for row in csvreader:\n",
      "        rows.append(row)\n",
      "        #print(row)\n",
      "    attack = numpy.array([float(a) for a in rows[0]])\n",
      "    defense = numpy.array([float(d) for d in rows[1]])\n",
      "    advantage = float(rows[2][0])\n",
      "\n",
      "print(zip(attack, defense))\n",
      "print(advantage)"
     ],
     "language": "python",
     "metadata": {},
     "outputs": [
      {
       "output_type": "stream",
       "stream": "stdout",
       "text": [
        "[(1.0730819908523481, 1.1338474069200499), (1.965346717445329, 1.3032595266010016), (0.87792340342390129, 1.3647279373135899), (0.79082409939010967, 1.2126713959497426), (1.0333580135914284, 1.0590938972164452), (0.71014688243102786, 1.3253697844705103), (0.9638683839859461, 1.2231423971677988), (1.8582733148348851, 0.45516727302323928), (0.95317460904257656, 1.2384665236983747), (0.7680071495313836, 1.5358122325344505), (0.89553252962085528, 1.4875014977785943), (1.4502269286910567, 1.6516710767413938), (0.93867229973978239, 1.9591362568966033), (1.0699938066951578, 0.95544926045268763), (0.4574627771641025, 0.92807589238479071), (0.73602001186636978, 1.6967462483229994), (0.71523707753182053, 1.3686958727590826), (0.74285000520942401, 1.1114310327418488)]\n",
        "1.1994137761\n"
       ]
      }
     ],
     "prompt_number": 7
    },
    {
     "cell_type": "code",
     "collapsed": false,
     "input": [
      "teams = []\n",
      "with open(\"bundesliga_15_16_teams.csv\", 'r') as teams_csv:\n",
      "    reader = csv.reader(teams_csv, delimiter = ',')\n",
      "    for row in reader:\n",
      "        teams.extend(row)"
     ],
     "language": "python",
     "metadata": {},
     "outputs": [],
     "prompt_number": 8
    },
    {
     "cell_type": "code",
     "collapsed": false,
     "input": [
      "def nice_out(ts, a, b, g):\n",
      "    print(\"Home advantage: \" + str(g))\n",
      "    for row in zip(ts, a, b):\n",
      "        print(row)"
     ],
     "language": "python",
     "metadata": {},
     "outputs": [],
     "prompt_number": 9
    },
    {
     "cell_type": "code",
     "collapsed": false,
     "input": [
      "import math\n",
      "\n",
      "max_goals = 10\n",
      "\n",
      "def fact(n):\n",
      "    if n == 0:\n",
      "        return 1\n",
      "    return n*fact(n-1)\n",
      "\n",
      "#not efficient!!\n",
      "f = [float(fact(i)) for i in range(max_goals+1)]\n",
      "\n",
      "def simulate(home_team, away_team):\n",
      "    lmbd = attack[home_team]*defense[away_team]*advantage\n",
      "    mu = attack[away_team]*defense[home_team]\n",
      "    \n",
      "    max_x = 0\n",
      "    max_y = 0\n",
      "    max_prob = 0\n",
      "    for x in range(max_goals+1):\n",
      "        for y in range(max_goals+1):\n",
      "            prob = math.pow(lmbd, float(x))*math.pow(mu, float(y))/(f[x]*f[y])\n",
      "            #print(\"x: \" + str(x) + \" y: \" + str(y))\n",
      "            #print(prob)\n",
      "            if prob > max_prob:\n",
      "                max_x = x\n",
      "                max_y = y\n",
      "                max_prob = prob\n",
      "    \n",
      "    return (max_x, max_y, max_prob)"
     ],
     "language": "python",
     "metadata": {},
     "outputs": [],
     "prompt_number": 10
    },
    {
     "cell_type": "code",
     "collapsed": false,
     "input": [
      "teams"
     ],
     "language": "python",
     "metadata": {},
     "outputs": [
      {
       "metadata": {},
       "output_type": "pyout",
       "prompt_number": 11,
       "text": [
        "['VfL Wolfsburg',\n",
        " 'Borussia Dortmund',\n",
        " 'FC Augsburg',\n",
        " 'Hamburger SV',\n",
        " 'Bayer Leverkusen',\n",
        " '1899 Hoffenheim',\n",
        " 'FC Schalke 04',\n",
        " 'Bayern M\\xc3\\xbcnchen',\n",
        " '1. FSV Mainz 05',\n",
        " 'Hannover 96',\n",
        " 'Eintracht Frankfurt',\n",
        " 'Bor. M\\xc3\\xb6nchengladbach',\n",
        " 'VfB Stuttgart',\n",
        " 'Hertha BSC',\n",
        " 'FC Ingolstadt 04',\n",
        " 'Werder Bremen',\n",
        " 'SV Darmstadt 98',\n",
        " '1. FC K\\xc3\\xb6ln']"
       ]
      }
     ],
     "prompt_number": 11
    },
    {
     "cell_type": "code",
     "collapsed": false,
     "input": [
      "inputfile = \"st18_teams.csv\"\n",
      "outputfile = \"st18_pred.csv\"\n",
      "games_sim = []\n",
      "with open(inputfile) as stfile:\n",
      "    streader = csv.reader(stfile)\n",
      "    count = 0\n",
      "    for row in streader:\n",
      "        if count > 0:\n",
      "            games_sim.append(row)\n",
      "            ind_home = teams.index(row[0])\n",
      "            ind_away = teams.index(row[1])\n",
      "            res = simulate(ind_home, ind_away)\n",
      "            games_sim[-1].extend([res[0], res[1]])\n",
      "        count += 1\n",
      "        \n",
      "print(games_sim)"
     ],
     "language": "python",
     "metadata": {},
     "outputs": [
      {
       "output_type": "stream",
       "stream": "stdout",
       "text": [
        "[['Hamburger SV', 'Bayern M\\xc3\\xbcnchen', 0, 2], ['FC Ingolstadt 04', '1. FSV Mainz 05', 0, 0], ['Hannover 96', 'SV Darmstadt 98', 1, 1], ['FC Schalke 04', 'Werder Bremen', 1, 0], ['Hertha BSC', 'FC Augsburg', 1, 0], ['1. FC K\\xc3\\xb6ln', 'VfB Stuttgart', 1, 1], ['Eintracht Frankfurt', 'VfL Wolfsburg', 1, 1], ['1899 Hoffenheim', 'Bayer Leverkusen', 0, 1], ['Bor. M\\xc3\\xb6nchengladbach', 'Borussia Dortmund', 2, 3]]\n"
       ]
      }
     ],
     "prompt_number": 14
    },
    {
     "cell_type": "code",
     "collapsed": false,
     "input": [
      "with open(outputfile, 'w') as out:\n",
      "    outwriter = csv.writer(out)\n",
      "    outwriter.writerow([\"Hometeam\", \"Awayteam\", \"Homegoals\", \"Awaygoals\"])\n",
      "    for row in games_sim:\n",
      "        outwriter.writerow(row)"
     ],
     "language": "python",
     "metadata": {},
     "outputs": [],
     "prompt_number": 16
    },
    {
     "cell_type": "code",
     "collapsed": false,
     "input": [],
     "language": "python",
     "metadata": {},
     "outputs": []
    }
   ],
   "metadata": {}
  }
 ]
}