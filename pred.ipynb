{
 "metadata": {
  "name": "",
  "signature": "sha256:bc1a6f29208cfffc852b4c336832f2e7ec0553d4817c178225a29456de42b982"
 },
 "nbformat": 3,
 "nbformat_minor": 0,
 "worksheets": [
  {
   "cells": [
    {
     "cell_type": "code",
     "collapsed": false,
     "input": [
      "import csv\n",
      "import numpy\n",
      "\n",
      "attack = []\n",
      "defense = []\n",
      "advantage = 0.0\n",
      "with open(\"dc_model_params.csv\", 'r') as model:\n",
      "    csvreader = csv.reader(model, delimiter=',')\n",
      "    rows = []\n",
      "    for row in csvreader:\n",
      "        rows.append(row)\n",
      "        #print(row)\n",
      "    attack = numpy.array([float(a) for a in rows[0]])\n",
      "    defense = numpy.array([float(d) for d in rows[1]])\n",
      "    advantage = float(rows[2][0])\n",
      "\n",
      "print(zip(attack, defense))\n",
      "print(advantage)"
     ],
     "language": "python",
     "metadata": {},
     "outputs": [
      {
       "output_type": "stream",
       "stream": "stdout",
       "text": [
        "[(0.87160817144811775, 1.1935003824854684), (1.4328346191951469, 1.355148972908246), (0.73252957754884207, 1.3785519681982579), (0.66610307825471415, 1.2586906473016155), (0.84627878630244768, 1.1052888204573859), (0.60265441428565358, 1.3789315094012808), (0.80271107914688933, 1.2665513614051451), (1.3746903693916181, 0.50746885894794225), (0.78482841992733998, 1.3001012668499354), (0.65371152602542915, 1.5610870058124622), (0.7543247471096145, 1.5094973130568565), (1.1438489213058947, 1.664295008214733), (0.77430335078490498, 1.8764226591979383), (0.87214937130327352, 1.0072926725485816), (0.40144617276707745, 0.98463213644171788), (0.63276463036830155, 1.7075982528751033), (0.61047576155217087, 1.4025163321342289), (0.62847959496543238, 1.170700227840477)]\n",
        "0.227188501319\n"
       ]
      }
     ],
     "prompt_number": 8
    },
    {
     "cell_type": "code",
     "collapsed": false,
     "input": [
      "teams = []\n",
      "with open(\"bundesliga_15_16_teams.csv\", 'r') as teams_csv:\n",
      "    reader = csv.reader(teams_csv, delimiter = ',')\n",
      "    for row in reader:\n",
      "        teams.extend(row)"
     ],
     "language": "python",
     "metadata": {},
     "outputs": [],
     "prompt_number": 9
    },
    {
     "cell_type": "code",
     "collapsed": false,
     "input": [
      "def nice_out(ts, a, b, g):\n",
      "    print(\"Home advantage: \" + str(g))\n",
      "    for row in zip(ts, a, b):\n",
      "        print(row)"
     ],
     "language": "python",
     "metadata": {},
     "outputs": [],
     "prompt_number": 10
    },
    {
     "cell_type": "code",
     "collapsed": false,
     "input": [
      "import math\n",
      "\n",
      "max_goals = 10\n",
      "\n",
      "def fact(n):\n",
      "    if n == 0:\n",
      "        return 1\n",
      "    return n*fact(n-1)\n",
      "\n",
      "#not efficient!!\n",
      "f = [float(fact(i)) for i in range(max_goals+1)]\n",
      "\n",
      "def simulate(home_team, away_team):\n",
      "    lmbd = attack[home_team]*defense[away_team]*advantage\n",
      "    mu = attack[away_team]*defense[home_team]\n",
      "    \n",
      "    max_x = 0\n",
      "    max_y = 0\n",
      "    max_prob = 0\n",
      "    for x in range(max_goals+1):\n",
      "        for y in range(max_goals+1):\n",
      "            prob = math.pow(lmbd, x)*math.pow(mu, y)/(f[x]*f[y])\n",
      "            if prob > max_prob:\n",
      "                max_x = x\n",
      "                max_y = y\n",
      "                max_prob = prob\n",
      "    \n",
      "    return (max_x, max_y, max_prob)"
     ],
     "language": "python",
     "metadata": {},
     "outputs": [],
     "prompt_number": 15
    },
    {
     "cell_type": "code",
     "collapsed": false,
     "input": [
      "teams"
     ],
     "language": "python",
     "metadata": {},
     "outputs": [
      {
       "metadata": {},
       "output_type": "pyout",
       "prompt_number": 16,
       "text": [
        "['VfL Wolfsburg',\n",
        " 'Borussia Dortmund',\n",
        " 'FC Augsburg',\n",
        " 'Hamburger SV',\n",
        " 'Bayer Leverkusen',\n",
        " '1899 Hoffenheim',\n",
        " 'FC Schalke 04',\n",
        " 'Bayern M\\xc3\\xbcnchen',\n",
        " '1. FSV Mainz 05',\n",
        " 'Hannover 96',\n",
        " 'Eintracht Frankfurt',\n",
        " 'Bor. M\\xc3\\xb6nchengladbach',\n",
        " 'VfB Stuttgart',\n",
        " 'Hertha BSC',\n",
        " 'FC Ingolstadt 04',\n",
        " 'Werder Bremen',\n",
        " 'SV Darmstadt 98',\n",
        " '1. FC K\\xc3\\xb6ln']"
       ]
      }
     ],
     "prompt_number": 16
    },
    {
     "cell_type": "code",
     "collapsed": false,
     "input": [
      "away_team = 17\n",
      "home_team = 11\n",
      "\n",
      "simulate(home_team, away_team)"
     ],
     "language": "python",
     "metadata": {},
     "outputs": [
      {
       "metadata": {},
       "output_type": "pyout",
       "prompt_number": 18,
       "text": [
        "(0, 1, 1.0459754526657863)"
       ]
      }
     ],
     "prompt_number": 18
    },
    {
     "cell_type": "code",
     "collapsed": false,
     "input": [],
     "language": "python",
     "metadata": {},
     "outputs": []
    }
   ],
   "metadata": {}
  }
 ]
}