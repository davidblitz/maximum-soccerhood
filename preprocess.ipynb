{
 "cells": [
  {
   "cell_type": "code",
   "execution_count": 1,
   "metadata": {
    "collapsed": false
   },
   "outputs": [],
   "source": [
    "inputfile = \"1-bundesliga-i.txt\"\n",
    "#inputfile = \"1-bundesliga-ii.txt\"\n",
    "#inputfile = \"st18.txt\"\n",
    "#outputfile = \"st18.csv\"\n",
    "outputfile = \"bundesliga_15_16.csv\"\n",
    "f = open(inputfile)\n",
    "bl_raw = f.read()\n",
    "bl_rows = bl_raw.split('\\n')"
   ]
  },
  {
   "cell_type": "code",
   "execution_count": 4,
   "metadata": {
    "collapsed": false
   },
   "outputs": [
    {
     "data": {
      "text/plain": [
       "['###############################',\n",
       " '# Deutsche Bundesliga 2015/16',\n",
       " '',\n",
       " '1. Spieltag',\n",
       " '[Fr 14.8.]']"
      ]
     },
     "execution_count": 4,
     "metadata": {},
     "output_type": "execute_result"
    }
   ],
   "source": [
    "bl_rows[:5]"
   ]
  },
  {
   "cell_type": "code",
   "execution_count": 6,
   "metadata": {
    "collapsed": false
   },
   "outputs": [
    {
     "name": "stdout",
     "output_type": "stream",
     "text": [
      "[1, 9, 25, 49, 81]\n"
     ]
    }
   ],
   "source": [
    "bl_rows = bl_rows[3:]\n",
    "bl_rows[:4]"
   ]
  },
  {
   "cell_type": "code",
   "execution_count": 19,
   "metadata": {
    "collapsed": false
   },
   "outputs": [
    {
     "name": "stdout",
     "output_type": "stream",
     "text": [
      "153 =? 153\n"
     ]
    }
   ],
   "source": [
    "bl_games_rows = [row for row in bl_rows if '-' in row]\n",
    "print(str(len(bl_games_rows)) + \" =? \" + str(17*9))"
   ]
  },
  {
   "cell_type": "code",
   "execution_count": 20,
   "metadata": {
    "collapsed": false
   },
   "outputs": [
    {
     "data": {
      "text/plain": [
       "['  Bayern M\\xc3\\xbcnchen        5-0  Hamburger SV',\n",
       " '  1. FSV Mainz 05       0-1  FC Ingolstadt 04',\n",
       " '  SV Darmstadt 98       2-2  Hannover 96',\n",
       " '  Werder Bremen         0-3  FC Schalke 04',\n",
       " '  FC Augsburg           0-1  Hertha BSC']"
      ]
     },
     "execution_count": 20,
     "metadata": {},
     "output_type": "execute_result"
    }
   ],
   "source": [
    "import re\n",
    "bl_games_clean0 = [re.split('[0-9]+\\.[0-9]{2}', row)[-1] for row in bl_games_rows]\n",
    "bl_games_clean0[:5]"
   ]
  },
  {
   "cell_type": "code",
   "execution_count": 21,
   "metadata": {
    "collapsed": false
   },
   "outputs": [
    {
     "data": {
      "text/plain": [
       "[['  Bayern M\\xc3\\xbcnchen        ', '  Hamburger SV'],\n",
       " ['  1. FSV Mainz 05       ', '  FC Ingolstadt 04'],\n",
       " ['  SV Darmstadt 98       ', '  Hannover 96'],\n",
       " ['  Werder Bremen         ', '  FC Schalke 04'],\n",
       " ['  FC Augsburg           ', '  Hertha BSC']]"
      ]
     },
     "execution_count": 21,
     "metadata": {},
     "output_type": "execute_result"
    }
   ],
   "source": [
    "bl_games_teams_dirty = [re.split('[0-9]*-[0-9]*', row) for row in bl_games_clean0]\n",
    "bl_games_teams_dirty[:5]"
   ]
  },
  {
   "cell_type": "code",
   "execution_count": 22,
   "metadata": {
    "collapsed": false
   },
   "outputs": [
    {
     "data": {
      "text/plain": [
       "[['Eintracht Frankfurt', 'Werder Bremen'],\n",
       " ['1. FC K\\xc3\\xb6ln', 'Borussia Dortmund'],\n",
       " ['Hannover 96', 'Bayern M\\xc3\\xbcnchen'],\n",
       " ['Hertha BSC', '1. FSV Mainz 05'],\n",
       " ['FC Ingolstadt 04', 'Bayer Leverkusen']]"
      ]
     },
     "execution_count": 22,
     "metadata": {},
     "output_type": "execute_result"
    }
   ],
   "source": [
    "bl_games_teams = [[team.strip() for team in row] for row in bl_games_teams_dirty]\n",
    "bl_games_teams[-5:]"
   ]
  },
  {
   "cell_type": "code",
   "execution_count": 23,
   "metadata": {
    "collapsed": false
   },
   "outputs": [
    {
     "data": {
      "text/plain": [
       "['  20.30  Bayern M\\xc3\\xbcnchen        5-0  Hamburger SV',\n",
       " '  15.30  1. FSV Mainz 05       0-1  FC Ingolstadt 04',\n",
       " '  15.30  SV Darmstadt 98       2-2  Hannover 96',\n",
       " '  15.30  Werder Bremen         0-3  FC Schalke 04',\n",
       " '  15.30  FC Augsburg           0-1  Hertha BSC']"
      ]
     },
     "execution_count": 23,
     "metadata": {},
     "output_type": "execute_result"
    }
   ],
   "source": [
    "bl_games_rows[:5]"
   ]
  },
  {
   "cell_type": "code",
   "execution_count": 24,
   "metadata": {
    "collapsed": false
   },
   "outputs": [
    {
     "data": {
      "text/plain": [
       "[['2', '1'], ['2', '1'], ['0', '1'], ['2', '0'], ['0', '1']]"
      ]
     },
     "execution_count": 24,
     "metadata": {},
     "output_type": "execute_result"
    }
   ],
   "source": [
    "def filter_goals(row):\n",
    "    m = re.search(\"([0-9]*)\\-([0-9]*)\", row)\n",
    "    return [m.group(1), m.group(2)]\n",
    "\n",
    "bl_games_res = map(filter_goals, bl_games_rows)\n",
    "bl_games_res[-5:]"
   ]
  },
  {
   "cell_type": "code",
   "execution_count": 25,
   "metadata": {
    "collapsed": false
   },
   "outputs": [
    {
     "data": {
      "text/plain": [
       "[['Bayern M\\xc3\\xbcnchen', 'Hamburger SV', '5', '0'],\n",
       " ['1. FSV Mainz 05', 'FC Ingolstadt 04', '0', '1'],\n",
       " ['SV Darmstadt 98', 'Hannover 96', '2', '2'],\n",
       " ['Werder Bremen', 'FC Schalke 04', '0', '3'],\n",
       " ['FC Augsburg', 'Hertha BSC', '0', '1']]"
      ]
     },
     "execution_count": 25,
     "metadata": {},
     "output_type": "execute_result"
    }
   ],
   "source": [
    "bl_games_final = bl_games_teams\n",
    "for i in range(len(bl_games_final)):\n",
    "    row2 = bl_games_res[i]\n",
    "    bl_games_final[i].extend(row2)\n",
    "\n",
    "bl_games_final[:5]"
   ]
  },
  {
   "cell_type": "code",
   "execution_count": 26,
   "metadata": {
    "collapsed": false
   },
   "outputs": [],
   "source": [
    "import csv\n",
    "with open(outputfile, 'w') as csvfile:\n",
    "    bl_writer = csv.writer(csvfile, delimiter = ',')\n",
    "    bl_writer.writerow(['Home_Team', \"Away_Team\", \"Home_Goals\", \"Away_Goals\"])\n",
    "    for row in bl_games_final:\n",
    "        bl_writer.writerow(row)\n",
    "    "
   ]
  },
  {
   "cell_type": "code",
   "execution_count": 27,
   "metadata": {
    "collapsed": false
   },
   "outputs": [
    {
     "name": "stdout",
     "output_type": "stream",
     "text": [
      "set(['VfL Wolfsburg', 'Borussia Dortmund', 'FC Augsburg', 'Hamburger SV', 'Bayer Leverkusen', '1899 Hoffenheim', 'FC Schalke 04', 'Bayern M\\xc3\\xbcnchen', '1. FSV Mainz 05', 'Hannover 96', 'Eintracht Frankfurt', 'Bor. M\\xc3\\xb6nchengladbach', 'VfB Stuttgart', 'Hertha BSC', 'FC Ingolstadt 04', 'Werder Bremen', 'SV Darmstadt 98', '1. FC K\\xc3\\xb6ln'])\n",
      "18\n"
     ]
    }
   ],
   "source": [
    "teams = []\n",
    "for gam in bl_games_teams:\n",
    "    teams.extend(gam[:1])\n",
    "\n",
    "teams = set(teams)\n",
    "print(teams)\n",
    "teams = list(teams)\n",
    "print(len(teams))"
   ]
  },
  {
   "cell_type": "code",
   "execution_count": 28,
   "metadata": {
    "collapsed": false
   },
   "outputs": [],
   "source": [
    "with open(\"bundesliga_15_16_teams.csv\", 'w') as csvfile:\n",
    "    writer = csv.writer(csvfile, delimiter = ',')\n",
    "    for team in teams:\n",
    "        writer.writerow([team])"
   ]
  },
  {
   "cell_type": "code",
   "execution_count": 29,
   "metadata": {
    "collapsed": false
   },
   "outputs": [
    {
     "name": "stdout",
     "output_type": "stream",
     "text": [
      "preprocessing raw data done...\n"
     ]
    }
   ],
   "source": [
    "print(\"preprocessing raw data done...\")"
   ]
  }
 ],
 "metadata": {
  "kernelspec": {
   "display_name": "Python 2",
   "language": "python",
   "name": "python2"
  },
  "language_info": {
   "codemirror_mode": {
    "name": "ipython",
    "version": 2
   },
   "file_extension": ".py",
   "mimetype": "text/x-python",
   "name": "python",
   "nbconvert_exporter": "python",
   "pygments_lexer": "ipython2",
   "version": "2.7.9"
  }
 },
 "nbformat": 4,
 "nbformat_minor": 0
}
