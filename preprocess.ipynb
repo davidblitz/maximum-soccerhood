{
 "metadata": {
  "name": "",
  "signature": "sha256:1653182c718b6908f4a467c463ed6e81cd3d4d5ba7258221ef28d3f4c292f074"
 },
 "nbformat": 3,
 "nbformat_minor": 0,
 "worksheets": [
  {
   "cells": [
    {
     "cell_type": "code",
     "collapsed": false,
     "input": [
      "f = open(\"1-bundesliga-i.txt\")\n",
      "bl_raw = f.read()\n",
      "bl_rows = bl_raw.split('\\n')"
     ],
     "language": "python",
     "metadata": {},
     "outputs": [],
     "prompt_number": 1
    },
    {
     "cell_type": "code",
     "collapsed": false,
     "input": [
      "bl_rows[:5]"
     ],
     "language": "python",
     "metadata": {},
     "outputs": [
      {
       "metadata": {},
       "output_type": "pyout",
       "prompt_number": 2,
       "text": [
        "['###############################',\n",
        " '# Deutsche Bundesliga 2015/16',\n",
        " '',\n",
        " '1. Spieltag',\n",
        " '[Fr 14.8.]']"
       ]
      }
     ],
     "prompt_number": 2
    },
    {
     "cell_type": "code",
     "collapsed": false,
     "input": [
      "bl_rows = bl_rows[3:]\n",
      "bl_rows[:4]"
     ],
     "language": "python",
     "metadata": {},
     "outputs": [
      {
       "metadata": {},
       "output_type": "pyout",
       "prompt_number": 3,
       "text": [
        "['1. Spieltag',\n",
        " '[Fr 14.8.]',\n",
        " '  20.30  Bayern M\\xc3\\xbcnchen        5-0  Hamburger SV',\n",
        " '[Sa 15.8.]']"
       ]
      }
     ],
     "prompt_number": 3
    },
    {
     "cell_type": "code",
     "collapsed": false,
     "input": [
      "bl_games_rows = [row for row in bl_rows if '-' in row]\n",
      "print(str(len(bl_games_rows)) + \" =? \" + str(17*9))"
     ],
     "language": "python",
     "metadata": {},
     "outputs": [
      {
       "output_type": "stream",
       "stream": "stdout",
       "text": [
        "153 =? 153\n"
       ]
      }
     ],
     "prompt_number": 4
    },
    {
     "cell_type": "code",
     "collapsed": false,
     "input": [
      "import re\n",
      "bl_games_clean0 = [re.split('[0-9]+\\.[0-9]{2}', row)[-1] for row in bl_games_rows]\n",
      "bl_games_clean0[:5]"
     ],
     "language": "python",
     "metadata": {},
     "outputs": [
      {
       "metadata": {},
       "output_type": "pyout",
       "prompt_number": 5,
       "text": [
        "['  Bayern M\\xc3\\xbcnchen        5-0  Hamburger SV',\n",
        " '  1. FSV Mainz 05       0-1  FC Ingolstadt 04',\n",
        " '  SV Darmstadt 98       2-2  Hannover 96',\n",
        " '  Werder Bremen         0-3  FC Schalke 04',\n",
        " '  FC Augsburg           0-1  Hertha BSC']"
       ]
      }
     ],
     "prompt_number": 5
    },
    {
     "cell_type": "code",
     "collapsed": false,
     "input": [
      "bl_games_teams_dirty = [re.split('[0-9]*-[0-9]*', row) for row in bl_games_clean0]\n",
      "bl_games_teams_dirty[:5]"
     ],
     "language": "python",
     "metadata": {},
     "outputs": [
      {
       "metadata": {},
       "output_type": "pyout",
       "prompt_number": 6,
       "text": [
        "[['  Bayern M\\xc3\\xbcnchen        ', '  Hamburger SV'],\n",
        " ['  1. FSV Mainz 05       ', '  FC Ingolstadt 04'],\n",
        " ['  SV Darmstadt 98       ', '  Hannover 96'],\n",
        " ['  Werder Bremen         ', '  FC Schalke 04'],\n",
        " ['  FC Augsburg           ', '  Hertha BSC']]"
       ]
      }
     ],
     "prompt_number": 6
    },
    {
     "cell_type": "code",
     "collapsed": false,
     "input": [
      "bl_games_teams = [[team.strip() for team in row] for row in bl_games_teams_dirty]\n",
      "bl_games_teams[-5:]"
     ],
     "language": "python",
     "metadata": {},
     "outputs": [
      {
       "metadata": {},
       "output_type": "pyout",
       "prompt_number": 7,
       "text": [
        "[['Eintracht Frankfurt', 'Werder Bremen'],\n",
        " ['1. FC K\\xc3\\xb6ln', 'Borussia Dortmund'],\n",
        " ['Hannover 96', 'Bayern M\\xc3\\xbcnchen'],\n",
        " ['Hertha BSC', '1. FSV Mainz 05'],\n",
        " ['FC Ingolstadt 04', 'Bayer Leverkusen']]"
       ]
      }
     ],
     "prompt_number": 7
    },
    {
     "cell_type": "code",
     "collapsed": false,
     "input": [
      "bl_games_rows[:5]"
     ],
     "language": "python",
     "metadata": {},
     "outputs": [
      {
       "metadata": {},
       "output_type": "pyout",
       "prompt_number": 8,
       "text": [
        "['  20.30  Bayern M\\xc3\\xbcnchen        5-0  Hamburger SV',\n",
        " '  15.30  1. FSV Mainz 05       0-1  FC Ingolstadt 04',\n",
        " '  15.30  SV Darmstadt 98       2-2  Hannover 96',\n",
        " '  15.30  Werder Bremen         0-3  FC Schalke 04',\n",
        " '  15.30  FC Augsburg           0-1  Hertha BSC']"
       ]
      }
     ],
     "prompt_number": 8
    },
    {
     "cell_type": "code",
     "collapsed": false,
     "input": [
      "def filter_goals(row):\n",
      "    m = re.search(\"([0-9]*)\\-([0-9]*)\", row)\n",
      "    return [m.group(1), m.group(2)]\n",
      "\n",
      "bl_games_res = map(filter_goals, bl_games_rows)\n",
      "bl_games_res[-5:]"
     ],
     "language": "python",
     "metadata": {},
     "outputs": [
      {
       "metadata": {},
       "output_type": "pyout",
       "prompt_number": 9,
       "text": [
        "[['2', '1'], ['2', '1'], ['0', '1'], ['2', '0'], ['0', '1']]"
       ]
      }
     ],
     "prompt_number": 9
    },
    {
     "cell_type": "code",
     "collapsed": false,
     "input": [
      "bl_games_final = bl_games_teams\n",
      "for i in range(len(bl_games_final)):\n",
      "    row2 = bl_games_res[i]\n",
      "    bl_games_final[i].extend(row2)\n",
      "\n",
      "bl_games_final[:5]"
     ],
     "language": "python",
     "metadata": {},
     "outputs": [
      {
       "metadata": {},
       "output_type": "pyout",
       "prompt_number": 10,
       "text": [
        "[['Bayern M\\xc3\\xbcnchen', 'Hamburger SV', '5', '0'],\n",
        " ['1. FSV Mainz 05', 'FC Ingolstadt 04', '0', '1'],\n",
        " ['SV Darmstadt 98', 'Hannover 96', '2', '2'],\n",
        " ['Werder Bremen', 'FC Schalke 04', '0', '3'],\n",
        " ['FC Augsburg', 'Hertha BSC', '0', '1']]"
       ]
      }
     ],
     "prompt_number": 10
    },
    {
     "cell_type": "code",
     "collapsed": false,
     "input": [
      "import csv\n",
      "with open(\"bundesliga_15_16.csv\", 'w') as csvfile:\n",
      "    bl_writer = csv.writer(csvfile, delimiter = ',')\n",
      "    bl_writer.writerow(['Home_Team', \"Away_Team\", \"Home_Goals\", \"Away_Goals\"])\n",
      "    for row in bl_games_final:\n",
      "        bl_writer.writerow(row)\n",
      "    "
     ],
     "language": "python",
     "metadata": {},
     "outputs": [],
     "prompt_number": 11
    },
    {
     "cell_type": "code",
     "collapsed": false,
     "input": [
      "teams = []\n",
      "for gam in bl_games_teams:\n",
      "    teams.extend(gam[:1])\n",
      "\n",
      "teams = set(teams)\n",
      "print(teams)\n",
      "teams = list(teams)\n",
      "print(len(teams))"
     ],
     "language": "python",
     "metadata": {},
     "outputs": [
      {
       "output_type": "stream",
       "stream": "stdout",
       "text": [
        "set(['VfL Wolfsburg', 'Borussia Dortmund', 'FC Augsburg', 'Hamburger SV', 'Bayer Leverkusen', '1899 Hoffenheim', 'FC Schalke 04', 'Bayern M\\xc3\\xbcnchen', '1. FSV Mainz 05', 'Hannover 96', 'Eintracht Frankfurt', 'Bor. M\\xc3\\xb6nchengladbach', 'VfB Stuttgart', 'Hertha BSC', 'FC Ingolstadt 04', 'Werder Bremen', 'SV Darmstadt 98', '1. FC K\\xc3\\xb6ln'])\n",
        "18\n"
       ]
      }
     ],
     "prompt_number": 14
    },
    {
     "cell_type": "code",
     "collapsed": false,
     "input": [
      "with open(\"bundesliga_15_16_teams.csv\", 'w') as csvfile:\n",
      "    writer = csv.writer(csvfile, delimiter = ',')\n",
      "    for team in teams:\n",
      "        writer.writerow([team])"
     ],
     "language": "python",
     "metadata": {},
     "outputs": [],
     "prompt_number": 17
    },
    {
     "cell_type": "code",
     "collapsed": false,
     "input": [
      "print(\"preprocessing raw data done...\")"
     ],
     "language": "python",
     "metadata": {},
     "outputs": [
      {
       "output_type": "stream",
       "stream": "stdout",
       "text": [
        "preprocessing raw data done...\n"
       ]
      }
     ],
     "prompt_number": 20
    },
    {
     "cell_type": "code",
     "collapsed": false,
     "input": [],
     "language": "python",
     "metadata": {},
     "outputs": []
    },
    {
     "cell_type": "code",
     "collapsed": false,
     "input": [],
     "language": "python",
     "metadata": {},
     "outputs": [],
     "prompt_number": 12
    },
    {
     "cell_type": "code",
     "collapsed": false,
     "input": [],
     "language": "python",
     "metadata": {},
     "outputs": []
    }
   ],
   "metadata": {}
  }
 ]
}