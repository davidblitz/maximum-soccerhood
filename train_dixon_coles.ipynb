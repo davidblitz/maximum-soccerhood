{
 "metadata": {
  "name": "",
  "signature": "sha256:ea27b29ad64debdbef1ff81fa79f1356a33df534e96a22584fc9a53d69e086e4"
 },
 "nbformat": 3,
 "nbformat_minor": 0,
 "worksheets": [
  {
   "cells": [
    {
     "cell_type": "code",
     "collapsed": false,
     "input": [
      "import csv\n",
      "\n",
      "bl_prep = []\n",
      "\n",
      "with open(\"bundesliga_15_16.csv\", 'r') as bl_csv:\n",
      "    reader = csv.reader(bl_csv, delimiter=',')\n",
      "    for row in reader:\n",
      "        bl_prep.append(row)\n",
      "\n",
      "bl_prep = bl_prep[1:]\n",
      "bl_prep[:5]\n",
      "\n",
      "teams = []\n",
      "with open(\"bundesliga_15_16_teams.csv\", 'r') as teams_csv:\n",
      "    reader = csv.reader(teams_csv, delimiter = ',')\n",
      "    for row in reader:\n",
      "        teams.extend(row)\n",
      "\n",
      "teams[:5]"
     ],
     "language": "python",
     "metadata": {},
     "outputs": [
      {
       "metadata": {},
       "output_type": "pyout",
       "prompt_number": 2,
       "text": [
        "['VfL Wolfsburg',\n",
        " 'Borussia Dortmund',\n",
        " 'FC Augsburg',\n",
        " 'Hamburger SV',\n",
        " 'Bayer Leverkusen']"
       ]
      }
     ],
     "prompt_number": 2
    },
    {
     "cell_type": "code",
     "collapsed": false,
     "input": [
      "home_goals = [int(row[2]) for row in bl_prep]\n",
      "away_goals = [int(row[3]) for row in bl_prep]\n",
      "team_vecs = [[0 for i in range(len(teams))] for j in range(len(teams))]\n",
      "\n",
      "for j in range(len(team_vecs)):\n",
      "    team_vecs[j][j] = 1\n",
      "    \n",
      "team_dict = { teams[i]: team_vecs[i] for i in range(len(teams))}\n",
      "\n",
      "home_teams = [team_dict[row[0]] for row in bl_prep]\n",
      "away_teams = [team_dict[row[1]] for row in bl_prep]"
     ],
     "language": "python",
     "metadata": {},
     "outputs": [],
     "prompt_number": 18
    },
    {
     "cell_type": "code",
     "collapsed": false,
     "input": [
      "import numpy\n",
      "import theano\n",
      "import theano.tensor as T\n",
      "\n",
      "rnd = numpy.random\n",
      "x = numpy.array(home_goals)\n",
      "y = numpy.array(away_goals)\n",
      "ht = numpy.array(home_teams)\n",
      "at = numpy.array(away_teams)\n",
      "\n",
      "t = len(teams)\n",
      "#need to initialize with positive numbers\n",
      "alpha = theano.shared(numpy.exp(rnd.randn(t)), name=\"attack\")\n",
      "beta = theano.shared(numpy.exp(rnd.randn(t)), name=\"defense\")\n",
      "gamma = theano.shared(numpy.exp(rnd.randn()), name=\"home_adv\")\n",
      "\n",
      "print(\"Initial model:\")\n",
      "print(alpha.get_value())\n",
      "print(beta.get_value())\n",
      "print(gamma.get_value())"
     ],
     "language": "python",
     "metadata": {},
     "outputs": [
      {
       "output_type": "stream",
       "stream": "stdout",
       "text": [
        "Initial model:\n",
        "[ 1.14311817  0.69541958  0.24759901  1.75905645  1.25388845  2.30633786\n",
        "  0.94506597  0.43939896  1.87351932  1.12366913  0.7250004   0.73144524\n",
        "  2.18180925  1.86215588  0.38792584  4.90021383  0.14014135  6.09656926]\n",
        "[ 1.14129607  1.69836754  0.32505393  0.7379921   0.85411531  0.47145798\n",
        "  1.14308101  0.08671564  2.12216304  2.22001488  2.90703493  7.11592189\n",
        "  0.92493392  1.26592049  0.29715473  2.49040696  0.05328686  1.09179883]\n",
        "0.585386834288\n"
       ]
      }
     ],
     "prompt_number": 19
    },
    {
     "cell_type": "code",
     "collapsed": false,
     "input": [
      "#Theano expression graph\n",
      "log_alpha = T.log(alpha)\n",
      "log_beta = T.log(beta)\n",
      "\n",
      "x_sum = sum(x)\n",
      "\n",
      "log_llh = T.dot(x, T.dot(ht, log_alpha) + T.dot(at, log_beta)) + x_sum*gamma + T.dot(y, T.dot(at, log_alpha) + T.dot(ht, log_beta)) - gamma*T.dot(T.dot(ht, alpha), T.dot(at, beta)) - T.dot(T.dot(at, alpha), T.dot(ht, beta))\n",
      "\n",
      "ga, gb, gg = T.grad(log_llh, [alpha, beta, gamma])"
     ],
     "language": "python",
     "metadata": {},
     "outputs": [],
     "prompt_number": 20
    },
    {
     "cell_type": "code",
     "collapsed": false,
     "input": [
      "#Compile expression graph\n",
      "train = theano.function(\n",
      "        inputs=[alpha, beta, gamma]\n",
      "        )"
     ],
     "language": "python",
     "metadata": {},
     "outputs": []
    }
   ],
   "metadata": {}
  }
 ]
}