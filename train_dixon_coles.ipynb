{
 "metadata": {
  "name": "",
  "signature": "sha256:b6d9ead669974cda5b63eb98b50855a8725d2df39e08633f79c9b385c3a31efe"
 },
 "nbformat": 3,
 "nbformat_minor": 0,
 "worksheets": [
  {
   "cells": [
    {
     "cell_type": "code",
     "collapsed": false,
     "input": [
      "import csv\n",
      "\n",
      "bl_prep = []\n",
      "\n",
      "with open(\"bundesliga_15_16.csv\", 'r') as bl_csv:\n",
      "    reader = csv.reader(bl_csv, delimiter=',')\n",
      "    for row in reader:\n",
      "        bl_prep.append(row)\n",
      "\n",
      "bl_prep = bl_prep[1:]\n",
      "bl_prep[:5]\n",
      "\n",
      "teams = []\n",
      "with open(\"bundesliga_15_16_teams.csv\", 'r') as teams_csv:\n",
      "    reader = csv.reader(teams_csv, delimiter = ',')\n",
      "    for row in reader:\n",
      "        teams.extend(row)\n",
      "\n",
      "teams[:5]"
     ],
     "language": "python",
     "metadata": {},
     "outputs": [
      {
       "metadata": {},
       "output_type": "pyout",
       "prompt_number": 118,
       "text": [
        "['VfL Wolfsburg',\n",
        " 'Borussia Dortmund',\n",
        " 'FC Augsburg',\n",
        " 'Hamburger SV',\n",
        " 'Bayer Leverkusen']"
       ]
      }
     ],
     "prompt_number": 118
    },
    {
     "cell_type": "code",
     "collapsed": false,
     "input": [
      "home_goals = [int(row[2]) for row in bl_prep]\n",
      "away_goals = [int(row[3]) for row in bl_prep]\n",
      "team_vecs = [[0 for i in range(len(teams))] for j in range(len(teams))]\n",
      "\n",
      "for j in range(len(team_vecs)):\n",
      "    team_vecs[j][j] = 1\n",
      "    \n",
      "team_dict = { teams[i]: team_vecs[i] for i in range(len(teams))}\n",
      "\n",
      "home_teams = [team_dict[row[0]] for row in bl_prep]\n",
      "away_teams = [team_dict[row[1]] for row in bl_prep]"
     ],
     "language": "python",
     "metadata": {},
     "outputs": [],
     "prompt_number": 119
    },
    {
     "cell_type": "code",
     "collapsed": false,
     "input": [
      "import numpy\n",
      "import theano\n",
      "import theano.tensor as T\n",
      "\n",
      "rnd = numpy.random\n",
      "x = T.vector(\"x\")\n",
      "y = T.vector(\"y\")\n",
      "ht = T.matrix(\"ht\")\n",
      "at = T.matrix(\"at\")\n",
      "\n",
      "t = len(teams)\n",
      "#need to initialize with positive numbers\n",
      "log_alpha = theano.shared(rnd.randn(t), name=\"attack\")\n",
      "log_beta = theano.shared(rnd.randn(t), name=\"defense\")\n",
      "log_gamma = theano.shared(numpy.exp(rnd.randn()), name=\"home_adv\")\n",
      "\n",
      "print(\"Initial model:\")\n",
      "attack = numpy.exp(log_alpha.get_value())\n",
      "defense = numpy.exp(log_beta.get_value())\n",
      "advantage = numpy.exp(log_gamma.get_value())\n",
      "nice_out(teams, attack, defense, advantage)\n"
     ],
     "language": "python",
     "metadata": {},
     "outputs": [
      {
       "output_type": "stream",
       "stream": "stdout",
       "text": [
        "Initial model:\n",
        "Home advantage: 5.93356221642\n",
        "('VfL Wolfsburg', 2.1098861384852858, 3.4536173257190144)\n",
        "('Borussia Dortmund', 3.5199743921739857, 0.1860566673842077)\n",
        "('FC Augsburg', 0.65491641822884727, 0.49974559823135567)\n",
        "('Hamburger SV', 0.47877673076034449, 0.78407051160280461)\n",
        "('Bayer Leverkusen', 1.3023383559593362, 3.0789879734062486)\n",
        "('1899 Hoffenheim', 0.35211719932222407, 2.3683359805825734)\n",
        "('FC Schalke 04', 0.31835146416642257, 3.4764372367151677)\n",
        "('Bayern M\\xc3\\xbcnchen', 0.26852351295524585, 0.46205648729053078)\n",
        "('1. FSV Mainz 05', 1.6363369973468542, 1.9307850915079823)\n",
        "('Hannover 96', 0.4872215438505309, 2.0002574934123181)\n",
        "('Eintracht Frankfurt', 0.25473726302383426, 3.1468185311555192)\n",
        "('Bor. M\\xc3\\xb6nchengladbach', 2.0057315399945712, 1.4778893977879193)\n",
        "('VfB Stuttgart', 0.83927866722216671, 0.92941648466020321)\n",
        "('Hertha BSC', 1.8837155524154972, 0.6242491820486199)\n",
        "('FC Ingolstadt 04', 0.53608111360689481, 0.45145232162442483)\n",
        "('Werder Bremen', 0.37451771116462562, 0.86652969546030545)\n",
        "('SV Darmstadt 98', 1.0358840271809757, 2.4481924644291198)\n",
        "('1. FC K\\xc3\\xb6ln', 0.24012648016048435, 0.73018151723082236)\n"
       ]
      }
     ],
     "prompt_number": 159
    },
    {
     "cell_type": "code",
     "collapsed": false,
     "input": [
      "#Theano expression graph\n",
      "alpha = T.exp(log_alpha)\n",
      "beta = T.exp(log_beta)\n",
      "gamma = T.exp(log_gamma)\n",
      "\n",
      "x_sum = T.sum(x)\n",
      "\n",
      "log_llh = -(T.dot(x, T.dot(ht, log_alpha) + T.dot(at, log_beta)) + x_sum*log_gamma + T.dot(y, T.dot(at, log_alpha) + T.dot(ht, log_beta)) - gamma*T.dot(T.dot(ht, alpha), T.dot(at, beta)) - T.dot(T.dot(at, alpha), T.dot(ht, beta)))\n",
      "\n",
      "ga, gb, gg = T.grad(log_llh, [log_alpha, log_beta, log_gamma])"
     ],
     "language": "python",
     "metadata": {},
     "outputs": [],
     "prompt_number": 160
    },
    {
     "cell_type": "code",
     "collapsed": false,
     "input": [
      "#Compile expression graph\n",
      "train = theano.function(\n",
      "        inputs=[x, y, ht, at],\n",
      "        outputs=log_llh,\n",
      "        updates=((log_alpha, log_alpha - 0.01*ga), (log_beta, log_beta - 0.01*gb), (log_gamma, log_gamma - 0.01*gg)))"
     ],
     "language": "python",
     "metadata": {},
     "outputs": [],
     "prompt_number": 161
    },
    {
     "cell_type": "code",
     "collapsed": false,
     "input": [
      "from tqdm import *\n",
      "\n",
      "def nice_out(ts, a, b, g):\n",
      "    print(\"Home advantage: \" + str(g))\n",
      "    for row in zip(ts, a, b):\n",
      "        print(row)"
     ],
     "language": "python",
     "metadata": {},
     "outputs": [],
     "prompt_number": 162
    },
    {
     "cell_type": "code",
     "collapsed": false,
     "input": [
      "training_steps = 100000\n",
      "\n",
      "home_goals = numpy.array(home_goals)\n",
      "away_goals = numpy.array(away_goals)\n",
      "home_teams = numpy.array(home_teams)\n",
      "away_teams = numpy.array(away_teams)\n",
      "\n",
      "for i in tqdm(range(training_steps)):\n",
      "    lllh = train(home_goals, away_goals, home_teams, away_teams)"
     ],
     "language": "python",
     "metadata": {},
     "outputs": [
      {
       "output_type": "stream",
       "stream": "stderr",
       "text": [
        "\r",
        "  0%|          | 0/100000 [00:00<?, ?it/s]"
       ]
      },
      {
       "output_type": "stream",
       "stream": "stderr",
       "text": [
        "\r",
        "  0%|          | 87/100000 [00:00<01:55, 867.68it/s]"
       ]
      },
      {
       "output_type": "stream",
       "stream": "stderr",
       "text": [
        "\r",
        "  0%|          | 129/100000 [00:00<02:16, 733.37it/s]"
       ]
      },
      {
       "output_type": "stream",
       "stream": "stderr",
       "text": [
        "\r",
        "  0%|          | 271/100000 [00:00<01:46, 938.76it/s]"
       ]
      },
      {
       "output_type": "stream",
       "stream": "stderr",
       "text": [
        "\r",
        "  0%|          | 466/100000 [00:00<01:20, 1237.50it/s]"
       ]
      },
      {
       "output_type": "stream",
       "stream": "stderr",
       "text": [
        "\r",
        "  1%|          | 638/100000 [00:00<01:11, 1380.61it/s]"
       ]
      },
      {
       "output_type": "stream",
       "stream": "stderr",
       "text": [
        "\r",
        "  1%|          | 802/100000 [00:00<01:08, 1458.11it/s]"
       ]
      },
      {
       "output_type": "stream",
       "stream": "stderr",
       "text": [
        "\r",
        "  1%|          | 990/100000 [00:00<01:02, 1582.01it/s]"
       ]
      },
      {
       "output_type": "stream",
       "stream": "stderr",
       "text": [
        "\r",
        "  1%|          | 1159/100000 [00:00<01:01, 1613.44it/s]"
       ]
      },
      {
       "output_type": "stream",
       "stream": "stderr",
       "text": [
        "\r",
        "  1%|\u258f         | 1316/100000 [00:00<01:02, 1569.59it/s]"
       ]
      },
      {
       "output_type": "stream",
       "stream": "stderr",
       "text": [
        "\r",
        "  1%|\u258f         | 1470/100000 [00:01<01:06, 1489.62it/s]"
       ]
      },
      {
       "output_type": "stream",
       "stream": "stderr",
       "text": [
        "\r",
        "  2%|\u258f         | 1628/100000 [00:01<01:04, 1516.50it/s]"
       ]
      },
      {
       "output_type": "stream",
       "stream": "stderr",
       "text": [
        "\r",
        "  2%|\u258f         | 1800/100000 [00:01<01:02, 1576.25it/s]"
       ]
      },
      {
       "output_type": "stream",
       "stream": "stderr",
       "text": [
        "\r",
        "  2%|\u258f         | 2007/100000 [00:01<00:56, 1722.60it/s]"
       ]
      },
      {
       "output_type": "stream",
       "stream": "stderr",
       "text": [
        "\r",
        "  2%|\u258f         | 2179/100000 [00:01<00:56, 1718.85it/s]"
       ]
      },
      {
       "output_type": "stream",
       "stream": "stderr",
       "text": [
        "\r",
        "  2%|\u258f         | 2370/100000 [00:01<00:54, 1776.11it/s]"
       ]
      },
      {
       "output_type": "stream",
       "stream": "stderr",
       "text": [
        "\r",
        "  3%|\u258e         | 2564/100000 [00:01<00:53, 1823.94it/s]"
       ]
      },
      {
       "output_type": "stream",
       "stream": "stderr",
       "text": [
        "\r",
        "  3%|\u258e         | 2747/100000 [00:01<00:54, 1785.13it/s]"
       ]
      },
      {
       "output_type": "stream",
       "stream": "stderr",
       "text": [
        "\r",
        "  3%|\u258e         | 2949/100000 [00:01<00:52, 1855.44it/s]"
       ]
      },
      {
       "output_type": "stream",
       "stream": "stderr",
       "text": [
        "\r",
        "  3%|\u258e         | 3135/100000 [00:01<00:53, 1820.22it/s]"
       ]
      },
      {
       "output_type": "stream",
       "stream": "stderr",
       "text": [
        "\r",
        "  3%|\u258e         | 3337/100000 [00:02<00:51, 1878.96it/s]"
       ]
      },
      {
       "output_type": "stream",
       "stream": "stderr",
       "text": [
        "\r",
        "  4%|\u258e         | 3525/100000 [00:02<00:53, 1819.31it/s]"
       ]
      },
      {
       "output_type": "stream",
       "stream": "stderr",
       "text": [
        "\r",
        "  4%|\u258e         | 3719/100000 [00:02<00:51, 1855.24it/s]"
       ]
      },
      {
       "output_type": "stream",
       "stream": "stderr",
       "text": [
        "\r",
        "  4%|\u258d         | 3905/100000 [00:02<00:52, 1835.49it/s]"
       ]
      },
      {
       "output_type": "stream",
       "stream": "stderr",
       "text": [
        "\r",
        "  4%|\u258d         | 4114/100000 [00:02<00:50, 1911.49it/s]"
       ]
      },
      {
       "output_type": "stream",
       "stream": "stderr",
       "text": [
        "\r",
        "  4%|\u258d         | 4306/100000 [00:02<00:50, 1901.16it/s]"
       ]
      },
      {
       "output_type": "stream",
       "stream": "stderr",
       "text": [
        "\r",
        "  5%|\u258d         | 4514/100000 [00:02<00:48, 1953.65it/s]"
       ]
      },
      {
       "output_type": "stream",
       "stream": "stderr",
       "text": [
        "\r",
        "  5%|\u258d         | 4715/100000 [00:02<00:48, 1969.03it/s]"
       ]
      },
      {
       "output_type": "stream",
       "stream": "stderr",
       "text": [
        "\r",
        "  5%|\u258d         | 4917/100000 [00:02<00:47, 1982.49it/s]"
       ]
      },
      {
       "output_type": "stream",
       "stream": "stderr",
       "text": [
        "\r",
        "  5%|\u258c         | 5116/100000 [00:02<00:47, 1979.46it/s]"
       ]
      },
      {
       "output_type": "stream",
       "stream": "stderr",
       "text": [
        "\r",
        "  5%|\u258c         | 5319/100000 [00:03<00:47, 1992.67it/s]"
       ]
      },
      {
       "output_type": "stream",
       "stream": "stderr",
       "text": [
        "\r",
        "  6%|\u258c         | 5519/100000 [00:03<00:48, 1961.35it/s]"
       ]
      },
      {
       "output_type": "stream",
       "stream": "stderr",
       "text": [
        "\r",
        "  6%|\u258c         | 5716/100000 [00:03<00:48, 1962.50it/s]"
       ]
      },
      {
       "output_type": "stream",
       "stream": "stderr",
       "text": [
        "\r",
        "  6%|\u258c         | 5913/100000 [00:03<00:59, 1590.48it/s]"
       ]
      },
      {
       "output_type": "stream",
       "stream": "stderr",
       "text": [
        "\r",
        "  6%|\u258c         | 6112/100000 [00:03<00:54, 1708.27it/s]"
       ]
      },
      {
       "output_type": "stream",
       "stream": "stderr",
       "text": [
        "\r",
        "  6%|\u258b         | 6316/100000 [00:03<00:51, 1805.84it/s]"
       ]
      },
      {
       "output_type": "stream",
       "stream": "stderr",
       "text": [
        "\r",
        "  7%|\u258b         | 6501/100000 [00:03<00:51, 1818.02it/s]"
       ]
      },
      {
       "output_type": "stream",
       "stream": "stderr",
       "text": [
        "\r",
        "  7%|\u258b         | 6701/100000 [00:03<00:50, 1864.38it/s]"
       ]
      },
      {
       "output_type": "stream",
       "stream": "stderr",
       "text": [
        "\r",
        "  7%|\u258b         | 6903/100000 [00:04<00:48, 1908.95it/s]"
       ]
      },
      {
       "output_type": "stream",
       "stream": "stderr",
       "text": [
        "\r",
        "  7%|\u258b         | 7107/100000 [00:04<00:47, 1946.40it/s]"
       ]
      },
      {
       "output_type": "stream",
       "stream": "stderr",
       "text": [
        "\r",
        "  7%|\u258b         | 7306/100000 [00:04<00:47, 1958.80it/s]"
       ]
      },
      {
       "output_type": "stream",
       "stream": "stderr",
       "text": [
        "\r",
        "  8%|\u258a         | 7503/100000 [00:04<00:47, 1961.38it/s]"
       ]
      },
      {
       "output_type": "stream",
       "stream": "stderr",
       "text": [
        "\r",
        "  8%|\u258a         | 7700/100000 [00:04<00:47, 1950.79it/s]"
       ]
      },
      {
       "output_type": "stream",
       "stream": "stderr",
       "text": [
        "\r",
        "  8%|\u258a         | 7896/100000 [00:04<00:53, 1733.71it/s]"
       ]
      },
      {
       "output_type": "stream",
       "stream": "stderr",
       "text": [
        "\r",
        "  8%|\u258a         | 8070/100000 [00:04<00:53, 1728.98it/s]"
       ]
      },
      {
       "output_type": "stream",
       "stream": "stderr",
       "text": [
        "\r",
        "  8%|\u258a         | 8270/100000 [00:04<00:50, 1810.03it/s]"
       ]
      },
      {
       "output_type": "stream",
       "stream": "stderr",
       "text": [
        "\r",
        "  8%|\u258a         | 8461/100000 [00:04<00:49, 1839.51it/s]"
       ]
      },
      {
       "output_type": "stream",
       "stream": "stderr",
       "text": [
        "\r",
        "  9%|\u258a         | 8656/100000 [00:05<00:48, 1871.48it/s]"
       ]
      },
      {
       "output_type": "stream",
       "stream": "stderr",
       "text": [
        "\r",
        "  9%|\u2589         | 8852/100000 [00:05<00:48, 1897.62it/s]"
       ]
      },
      {
       "output_type": "stream",
       "stream": "stderr",
       "text": [
        "\r",
        "  9%|\u2589         | 9050/100000 [00:05<00:47, 1921.23it/s]"
       ]
      },
      {
       "output_type": "stream",
       "stream": "stderr",
       "text": [
        "\r",
        "  9%|\u2589         | 9249/100000 [00:05<00:46, 1941.58it/s]"
       ]
      },
      {
       "output_type": "stream",
       "stream": "stderr",
       "text": [
        "\r",
        "  9%|\u2589         | 9444/100000 [00:05<00:47, 1890.80it/s]"
       ]
      },
      {
       "output_type": "stream",
       "stream": "stderr",
       "text": [
        "\r",
        " 10%|\u2589         | 9634/100000 [00:05<00:53, 1680.78it/s]"
       ]
      },
      {
       "output_type": "stream",
       "stream": "stderr",
       "text": [
        "\r",
        " 10%|\u2589         | 9824/100000 [00:05<00:51, 1745.43it/s]"
       ]
      },
      {
       "output_type": "stream",
       "stream": "stderr",
       "text": [
        "\r",
        " 10%|\u2588         | 10027/100000 [00:05<00:49, 1829.55it/s]"
       ]
      },
      {
       "output_type": "stream",
       "stream": "stderr",
       "text": [
        "\r",
        " 10%|\u2588         | 10228/100000 [00:05<00:47, 1883.09it/s]"
       ]
      },
      {
       "output_type": "stream",
       "stream": "stderr",
       "text": [
        "\r",
        " 10%|\u2588         | 10438/100000 [00:05<00:45, 1947.94it/s]"
       ]
      },
      {
       "output_type": "stream",
       "stream": "stderr",
       "text": [
        "\r",
        " 11%|\u2588         | 10643/100000 [00:06<00:45, 1976.80it/s]"
       ]
      },
      {
       "output_type": "stream",
       "stream": "stderr",
       "text": [
        "\r",
        " 11%|\u2588         | 10847/100000 [00:06<00:44, 1990.44it/s]"
       ]
      },
      {
       "output_type": "stream",
       "stream": "stderr",
       "text": [
        "\r",
        " 11%|\u2588         | 11047/100000 [00:06<00:45, 1958.34it/s]"
       ]
      },
      {
       "output_type": "stream",
       "stream": "stderr",
       "text": [
        "\r",
        " 11%|\u2588         | 11247/100000 [00:06<00:45, 1969.71it/s]"
       ]
      },
      {
       "output_type": "stream",
       "stream": "stderr",
       "text": [
        "\r",
        " 11%|\u2588\u258f        | 11445/100000 [00:06<00:44, 1971.63it/s]"
       ]
      },
      {
       "output_type": "stream",
       "stream": "stderr",
       "text": [
        "\r",
        " 12%|\u2588\u258f        | 11646/100000 [00:06<00:44, 1982.91it/s]"
       ]
      },
      {
       "output_type": "stream",
       "stream": "stderr",
       "text": [
        "\r",
        " 12%|\u2588\u258f        | 11848/100000 [00:06<00:44, 1993.70it/s]"
       ]
      },
      {
       "output_type": "stream",
       "stream": "stderr",
       "text": [
        "\r",
        " 12%|\u2588\u258f        | 12048/100000 [00:06<00:45, 1924.29it/s]"
       ]
      },
      {
       "output_type": "stream",
       "stream": "stderr",
       "text": [
        "\r",
        " 12%|\u2588\u258f        | 12241/100000 [00:06<00:52, 1679.32it/s]"
       ]
      },
      {
       "output_type": "stream",
       "stream": "stderr",
       "text": [
        "\r",
        " 12%|\u2588\u258f        | 12409/100000 [00:07<00:52, 1677.20it/s]"
       ]
      },
      {
       "output_type": "stream",
       "stream": "stderr",
       "text": [
        "\r",
        " 13%|\u2588\u258e        | 12577/100000 [00:07<00:53, 1647.90it/s]"
       ]
      },
      {
       "output_type": "stream",
       "stream": "stderr",
       "text": [
        "\r",
        " 13%|\u2588\u258e        | 12742/100000 [00:07<00:54, 1599.80it/s]"
       ]
      },
      {
       "output_type": "stream",
       "stream": "stderr",
       "text": [
        "\r",
        " 13%|\u2588\u258e        | 12903/100000 [00:07<00:54, 1602.54it/s]"
       ]
      },
      {
       "output_type": "stream",
       "stream": "stderr",
       "text": [
        "\r",
        " 13%|\u2588\u258e        | 13076/100000 [00:07<00:53, 1639.54it/s]"
       ]
      },
      {
       "output_type": "stream",
       "stream": "stderr",
       "text": [
        "\r",
        " 13%|\u2588\u258e        | 13240/100000 [00:07<01:01, 1420.90it/s]"
       ]
      },
      {
       "output_type": "stream",
       "stream": "stderr",
       "text": [
        "\r",
        " 13%|\u2588\u258e        | 13453/100000 [00:07<00:53, 1632.56it/s]"
       ]
      },
      {
       "output_type": "stream",
       "stream": "stderr",
       "text": [
        "\r",
        " 14%|\u2588\u258e        | 13647/100000 [00:07<00:50, 1724.22it/s]"
       ]
      },
      {
       "output_type": "stream",
       "stream": "stderr",
       "text": [
        "\r",
        " 14%|\u2588\u258d        | 13851/100000 [00:07<00:47, 1816.84it/s]"
       ]
      },
      {
       "output_type": "stream",
       "stream": "stderr",
       "text": [
        "\r",
        " 14%|\u2588\u258d        | 14033/100000 [00:08<00:49, 1754.08it/s]"
       ]
      }
     ]
    },
    {
     "cell_type": "code",
     "collapsed": false,
     "input": [
      "print(\"Final model:\")\n",
      "attack = numpy.exp(log_alpha.get_value())\n",
      "defense = numpy.exp(log_beta.get_value())\n",
      "advantage = numpy.exp(log_gamma.get_value())\n",
      "#nice_out(teams, attack, defense, gamma.get_value())\n",
      "nice_out(teams, attack, defense, advantage)"
     ],
     "language": "python",
     "metadata": {},
     "outputs": [
      {
       "output_type": "stream",
       "stream": "stdout",
       "text": [
        "Final model:\n",
        "Home advantage: 0.227188501319\n",
        "('VfL Wolfsburg', 0.87160817144811775, 1.1935003824854684)\n",
        "('Borussia Dortmund', 1.4328346191951469, 1.355148972908246)\n",
        "('FC Augsburg', 0.73252957754884207, 1.3785519681982579)\n",
        "('Hamburger SV', 0.66610307825471415, 1.2586906473016155)\n",
        "('Bayer Leverkusen', 0.84627878630244768, 1.1052888204573859)\n",
        "('1899 Hoffenheim', 0.60265441428565358, 1.3789315094012808)\n",
        "('FC Schalke 04', 0.80271107914688933, 1.2665513614051451)\n",
        "('Bayern M\\xc3\\xbcnchen', 1.3746903693916181, 0.50746885894794225)\n",
        "('1. FSV Mainz 05', 0.78482841992733998, 1.3001012668499354)\n",
        "('Hannover 96', 0.65371152602542915, 1.5610870058124622)\n",
        "('Eintracht Frankfurt', 0.7543247471096145, 1.5094973130568565)\n",
        "('Bor. M\\xc3\\xb6nchengladbach', 1.1438489213058947, 1.664295008214733)\n",
        "('VfB Stuttgart', 0.77430335078490498, 1.8764226591979383)\n",
        "('Hertha BSC', 0.87214937130327352, 1.0072926725485816)\n",
        "('FC Ingolstadt 04', 0.40144617276707745, 0.98463213644171788)\n",
        "('Werder Bremen', 0.63276463036830155, 1.7075982528751033)\n",
        "('SV Darmstadt 98', 0.61047576155217087, 1.4025163321342289)\n",
        "('1. FC K\\xc3\\xb6ln', 0.62847959496543238, 1.170700227840477)\n"
       ]
      }
     ],
     "prompt_number": 164
    },
    {
     "cell_type": "code",
     "collapsed": false,
     "input": [],
     "language": "python",
     "metadata": {},
     "outputs": [
      {
       "output_type": "stream",
       "stream": "stderr",
       "text": [
        "\r",
        "  0%|          | 0/10 [00:00<?, ?it/s]"
       ]
      },
      {
       "output_type": "stream",
       "stream": "stderr",
       "text": [
        "\r",
        "                                      "
       ]
      },
      {
       "output_type": "stream",
       "stream": "stdout",
       "text": [
        "34.8187381109\n"
       ]
      },
      {
       "output_type": "stream",
       "stream": "stderr",
       "text": [
        "\r"
       ]
      }
     ],
     "prompt_number": 145
    },
    {
     "cell_type": "code",
     "collapsed": false,
     "input": [],
     "language": "python",
     "metadata": {},
     "outputs": [],
     "prompt_number": 142
    },
    {
     "cell_type": "code",
     "collapsed": false,
     "input": [],
     "language": "python",
     "metadata": {},
     "outputs": []
    }
   ],
   "metadata": {}
  }
 ]
}